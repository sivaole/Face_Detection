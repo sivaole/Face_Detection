{
 "cells": [
  {
   "cell_type": "markdown",
   "metadata": {
    "colab_type": "text",
    "id": "VvWl3ebqzCc1"
   },
   "source": [
    "# Instructions\n",
    "- Some parts of the code are already done for you\n",
    "- You need to execute all the cells\n",
    "- You need to add the code where ever you see `\"#### Add your code here ####\"`\n",
    "- Marks are mentioned along with the cells"
   ]
  },
  {
   "cell_type": "markdown",
   "metadata": {
    "colab_type": "text",
    "id": "NgR0j5310qqC"
   },
   "source": [
    "# Face detection\n",
    "Task is to predict the boundaries(mask) around the face in a given image."
   ]
  },
  {
   "cell_type": "markdown",
   "metadata": {
    "colab_type": "text",
    "id": "Aa0jyJzw091I"
   },
   "source": [
    "## Dataset\n",
    "Faces in images marked with bounding boxes. Have around 500 images with around 1100 faces manually tagged via bounding box."
   ]
  },
  {
   "cell_type": "markdown",
   "metadata": {
    "colab_type": "text",
    "id": "CjRTlPkp1LC2"
   },
   "source": [
    "### Mount Google drive if you are using google colab\n",
    "- We recommend using Google Colab as you can face memory issues and longer runtimes while running on local"
   ]
  },
  {
   "cell_type": "code",
   "execution_count": 3,
   "metadata": {
    "colab": {
     "base_uri": "https://localhost:8080/",
     "height": 122
    },
    "colab_type": "code",
    "executionInfo": {
     "elapsed": 38497,
     "status": "ok",
     "timestamp": 1579681067240,
     "user": {
      "displayName": "Arun Kumar U",
      "photoUrl": "",
      "userId": "10330899814833553003"
     },
     "user_tz": -240
    },
    "id": "sBWMoTJ9cf3Z",
    "outputId": "7cf9156e-c179-4cb7-cd94-e3ca2ffa0b26"
   },
   "outputs": [
    {
     "name": "stdout",
     "output_type": "stream",
     "text": [
      "Go to this URL in a browser: https://accounts.google.com/o/oauth2/auth?client_id=947318989803-6bn6qk8qdgf4n4g3pfee6491hc0brc4i.apps.googleusercontent.com&redirect_uri=urn%3aietf%3awg%3aoauth%3a2.0%3aoob&response_type=code&scope=email%20https%3a%2f%2fwww.googleapis.com%2fauth%2fdocs.test%20https%3a%2f%2fwww.googleapis.com%2fauth%2fdrive%20https%3a%2f%2fwww.googleapis.com%2fauth%2fdrive.photos.readonly%20https%3a%2f%2fwww.googleapis.com%2fauth%2fpeopleapi.readonly\n",
      "\n",
      "Enter your authorization code:\n",
      "··········\n",
      "Mounted at /content/drive/\n"
     ]
    }
   ],
   "source": [
    "from google.colab import drive\n",
    "drive.mount('/content/drive/')"
   ]
  },
  {
   "cell_type": "markdown",
   "metadata": {
    "colab_type": "text",
    "id": "sO9mgMmp13sI"
   },
   "source": [
    "### Change current working directory to project folder (1 mark)"
   ]
  },
  {
   "cell_type": "code",
   "execution_count": null,
   "metadata": {
    "colab": {
     "base_uri": "https://localhost:8080/",
     "height": 255
    },
    "colab_type": "code",
    "executionInfo": {
     "elapsed": 10611,
     "status": "ok",
     "timestamp": 1579682462836,
     "user": {
      "displayName": "Arun Kumar U",
      "photoUrl": "",
      "userId": "10330899814833553003"
     },
     "user_tz": -240
    },
    "id": "TddMnf4D1-59",
    "outputId": "a8d8efcb-05df-4b29-c570-6f04eee0c3f9"
   },
   "outputs": [],
   "source": [
    "import os\n",
    "#### code added below ####\n",
    "os.chdir('/content/drive/My Drive/AIML/Siamese')\n"
   ]
  },
  {
   "cell_type": "markdown",
   "metadata": {
    "colab_type": "text",
    "id": "3srplE-FEpKa"
   },
   "source": [
    "### Load the \"images.npy\" file (1 mark)\n",
    "- This file contains images with details of bounding boxes"
   ]
  },
  {
   "cell_type": "code",
   "execution_count": 0,
   "metadata": {
    "colab": {},
    "colab_type": "code",
    "id": "MqFE_tZDf0sM"
   },
   "outputs": [],
   "source": [
    "import numpy as np\n",
    "#### code added below ####\n",
    "data = np.load('images.npy',allow_pickle = True )"
   ]
  },
  {
   "cell_type": "markdown",
   "metadata": {
    "colab_type": "text",
    "id": "_SMP8zliFT7R"
   },
   "source": [
    "### Check one sample from the loaded \"images.npy\" file  (1 mark)"
   ]
  },
  {
   "cell_type": "code",
   "execution_count": 6,
   "metadata": {
    "colab": {
     "base_uri": "https://localhost:8080/",
     "height": 887
    },
    "colab_type": "code",
    "executionInfo": {
     "elapsed": 1574,
     "status": "ok",
     "timestamp": 1579681106997,
     "user": {
      "displayName": "Arun Kumar U",
      "photoUrl": "",
      "userId": "10330899814833553003"
     },
     "user_tz": -240
    },
    "id": "AlwJplk4i5Ha",
    "outputId": "15763b8d-8583-48f3-a598-f52079d123bb"
   },
   "outputs": [
    {
     "name": "stdout",
     "output_type": "stream",
     "text": [
      "[array([[[42, 37, 34],\n",
      "        [56, 51, 48],\n",
      "        [71, 66, 63],\n",
      "        ...,\n",
      "        [23, 33, 34],\n",
      "        [26, 36, 37],\n",
      "        [28, 38, 39]],\n",
      "\n",
      "       [[40, 35, 32],\n",
      "        [51, 46, 43],\n",
      "        [64, 59, 56],\n",
      "        ...,\n",
      "        [27, 36, 35],\n",
      "        [24, 33, 32],\n",
      "        [26, 35, 34]],\n",
      "\n",
      "       [[43, 38, 35],\n",
      "        [51, 46, 43],\n",
      "        [61, 56, 53],\n",
      "        ...,\n",
      "        [28, 30, 27],\n",
      "        [33, 35, 32],\n",
      "        [35, 37, 34]],\n",
      "\n",
      "       ...,\n",
      "\n",
      "       [[56, 47, 40],\n",
      "        [57, 48, 41],\n",
      "        [61, 52, 45],\n",
      "        ...,\n",
      "        [67, 48, 42],\n",
      "        [55, 35, 28],\n",
      "        [60, 40, 33]],\n",
      "\n",
      "       [[53, 44, 37],\n",
      "        [54, 45, 38],\n",
      "        [57, 48, 41],\n",
      "        ...,\n",
      "        [59, 40, 34],\n",
      "        [60, 40, 33],\n",
      "        [54, 34, 27]],\n",
      "\n",
      "       [[53, 44, 37],\n",
      "        [54, 45, 38],\n",
      "        [57, 48, 41],\n",
      "        ...,\n",
      "        [59, 40, 34],\n",
      "        [70, 50, 43],\n",
      "        [64, 44, 37]]], dtype=uint8)\n",
      " list([{'label': ['Face'], 'notes': '', 'points': [{'x': 0.08615384615384615, 'y': 0.3063063063063063}, {'x': 0.1723076923076923, 'y': 0.45345345345345345}], 'imageWidth': 650, 'imageHeight': 333}, {'label': ['Face'], 'notes': '', 'points': [{'x': 0.583076923076923, 'y': 0.2912912912912913}, {'x': 0.6584615384615384, 'y': 0.46846846846846846}], 'imageWidth': 650, 'imageHeight': 333}])]\n"
     ]
    }
   ],
   "source": [
    "#### code added below ####\n",
    "print(data[0])"
   ]
  },
  {
   "cell_type": "markdown",
   "metadata": {
    "colab_type": "text",
    "id": "m94G4p3CE5Cj"
   },
   "source": [
    "### Set image dimensions   (1 mark)\n",
    "- Initialize image height, image width with value: 224 "
   ]
  },
  {
   "cell_type": "code",
   "execution_count": 0,
   "metadata": {
    "colab": {},
    "colab_type": "code",
    "id": "kuZmtOASevDo"
   },
   "outputs": [],
   "source": [
    "#### code added below ####\n",
    "IMAGE_WIDTH = 224   \n",
    "IMAGE_HEIGHT = 224 "
   ]
  },
  {
   "cell_type": "markdown",
   "metadata": {
    "colab_type": "text",
    "id": "wY6FEsCjG47s"
   },
   "source": [
    "### Create features and labels\n",
    "- Here feature is the image\n",
    "- The label is the mask\n",
    "- Images will be stored in \"X_train\" array\n",
    "- Masks will be stored in \"masks\" array"
   ]
  },
  {
   "cell_type": "code",
   "execution_count": 8,
   "metadata": {
    "colab": {
     "base_uri": "https://localhost:8080/",
     "height": 63
    },
    "colab_type": "code",
    "executionInfo": {
     "elapsed": 3717,
     "status": "ok",
     "timestamp": 1579681116177,
     "user": {
      "displayName": "Arun Kumar U",
      "photoUrl": "",
      "userId": "10330899814833553003"
     },
     "user_tz": -240
    },
    "id": "XjCT9EVTgAvr",
    "outputId": "32b48321-11d7-4d8a-dde4-35bcf08c2175"
   },
   "outputs": [
    {
     "data": {
      "text/html": [
       "<p style=\"color: red;\">\n",
       "The default version of TensorFlow in Colab will soon switch to TensorFlow 2.x.<br>\n",
       "We recommend you <a href=\"https://www.tensorflow.org/guide/migrate\" target=\"_blank\">upgrade</a> now \n",
       "or ensure your notebook will continue to use TensorFlow 1.x via the <code>%tensorflow_version 1.x</code> magic:\n",
       "<a href=\"https://colab.research.google.com/notebooks/tensorflow_version.ipynb\" target=\"_blank\">more info</a>.</p>\n"
      ],
      "text/plain": [
       "<IPython.core.display.HTML object>"
      ]
     },
     "metadata": {
      "tags": []
     },
     "output_type": "display_data"
    }
   ],
   "source": [
    "import cv2\n",
    "from tensorflow.keras.applications.mobilenet import preprocess_input\n",
    "\n",
    "masks = np.zeros((int(data.shape[0]), IMAGE_HEIGHT, IMAGE_WIDTH))\n",
    "X_train = np.zeros((int(data.shape[0]), IMAGE_HEIGHT, IMAGE_WIDTH, 3))\n",
    "for index in range(data.shape[0]):\n",
    "    img = data[index][0]\n",
    "    img = cv2.resize(img, dsize=(IMAGE_HEIGHT, IMAGE_WIDTH), interpolation=cv2.INTER_CUBIC)\n",
    "    try:\n",
    "      img = img[:, :, :3]\n",
    "    except:\n",
    "      continue\n",
    "    X_train[index] = preprocess_input(np.array(img, dtype=np.float32))\n",
    "    for i in data[index][1]:\n",
    "        x1 = int(i[\"points\"][0]['x'] * IMAGE_WIDTH)\n",
    "        x2 = int(i[\"points\"][1]['x'] * IMAGE_WIDTH)\n",
    "        y1 = int(i[\"points\"][0]['y'] * IMAGE_HEIGHT)\n",
    "        y2 = int(i[\"points\"][1]['y'] * IMAGE_HEIGHT)\n",
    "        masks[index][y1:y2, x1:x2] = 1"
   ]
  },
  {
   "cell_type": "markdown",
   "metadata": {
    "colab_type": "text",
    "id": "N3AYbP79bFtJ"
   },
   "source": [
    "### Print the shape of X_train and mask array  (1 mark)"
   ]
  },
  {
   "cell_type": "code",
   "execution_count": 9,
   "metadata": {
    "colab": {
     "base_uri": "https://localhost:8080/",
     "height": 34
    },
    "colab_type": "code",
    "executionInfo": {
     "elapsed": 793,
     "status": "ok",
     "timestamp": 1579681116177,
     "user": {
      "displayName": "Arun Kumar U",
      "photoUrl": "",
      "userId": "10330899814833553003"
     },
     "user_tz": -240
    },
    "id": "3PIRaEdWIjDa",
    "outputId": "b1ec389b-2e43-4454-92a5-6b15de71307f"
   },
   "outputs": [
    {
     "data": {
      "text/plain": [
       "(409, 224, 224, 3)"
      ]
     },
     "execution_count": 9,
     "metadata": {
      "tags": []
     },
     "output_type": "execute_result"
    }
   ],
   "source": [
    "#### code added below ####\n",
    "X_train.shape"
   ]
  },
  {
   "cell_type": "code",
   "execution_count": 10,
   "metadata": {
    "colab": {
     "base_uri": "https://localhost:8080/",
     "height": 34
    },
    "colab_type": "code",
    "executionInfo": {
     "elapsed": 1604,
     "status": "ok",
     "timestamp": 1579681128721,
     "user": {
      "displayName": "Arun Kumar U",
      "photoUrl": "",
      "userId": "10330899814833553003"
     },
     "user_tz": -240
    },
    "id": "Gw6uH5DxgI_r",
    "outputId": "72276fdd-1104-48b6-b318-72b96518ade3"
   },
   "outputs": [
    {
     "data": {
      "text/plain": [
       "(409, 224, 224)"
      ]
     },
     "execution_count": 10,
     "metadata": {
      "tags": []
     },
     "output_type": "execute_result"
    }
   ],
   "source": [
    "#### code added below ####\n",
    "masks.shape"
   ]
  },
  {
   "cell_type": "markdown",
   "metadata": {
    "colab_type": "text",
    "id": "R4wgkWq1bk5F"
   },
   "source": [
    "### Print a sample image and image array"
   ]
  },
  {
   "cell_type": "code",
   "execution_count": 11,
   "metadata": {
    "colab": {
     "base_uri": "https://localhost:8080/",
     "height": 1000
    },
    "colab_type": "code",
    "executionInfo": {
     "elapsed": 1931,
     "status": "ok",
     "timestamp": 1579681130191,
     "user": {
      "displayName": "Arun Kumar U",
      "photoUrl": "",
      "userId": "10330899814833553003"
     },
     "user_tz": -240
    },
    "id": "qfRZjQufj0N9",
    "outputId": "30b55707-86e6-4990-8064-4422c3908357"
   },
   "outputs": [
    {
     "name": "stderr",
     "output_type": "stream",
     "text": [
      "Clipping input data to the valid range for imshow with RGB data ([0..1] for floats or [0..255] for integers).\n"
     ]
    },
    {
     "name": "stdout",
     "output_type": "stream",
     "text": [
      "[[[-0.98431373 -0.98431373 -0.98431373]\n",
      "  [-0.98431373 -0.98431373 -0.98431373]\n",
      "  [-0.98431373 -0.98431373 -0.98431373]\n",
      "  ...\n",
      "  [-1.         -1.         -1.        ]\n",
      "  [-1.         -1.         -1.        ]\n",
      "  [-1.         -1.         -1.        ]]\n",
      "\n",
      " [[-0.98431373 -0.98431373 -0.98431373]\n",
      "  [-0.98431373 -0.98431373 -0.98431373]\n",
      "  [-0.98431373 -0.98431373 -0.98431373]\n",
      "  ...\n",
      "  [-1.         -1.         -1.        ]\n",
      "  [-1.         -1.         -1.        ]\n",
      "  [-1.         -1.         -1.        ]]\n",
      "\n",
      " [[-0.98431373 -0.98431373 -0.98431373]\n",
      "  [-0.98431373 -0.98431373 -0.98431373]\n",
      "  [-0.98431373 -0.98431373 -0.98431373]\n",
      "  ...\n",
      "  [-1.         -1.         -1.        ]\n",
      "  [-1.         -1.         -1.        ]\n",
      "  [-1.         -1.         -1.        ]]\n",
      "\n",
      " ...\n",
      "\n",
      " [[-1.         -1.         -1.        ]\n",
      "  [-1.         -1.         -1.        ]\n",
      "  [-1.         -1.         -1.        ]\n",
      "  ...\n",
      "  [-0.96862745 -0.96862745 -0.96862745]\n",
      "  [-0.96078432 -0.96078432 -0.96078432]\n",
      "  [-0.96078432 -0.96078432 -0.96078432]]\n",
      "\n",
      " [[-1.         -1.         -1.        ]\n",
      "  [-1.         -1.         -1.        ]\n",
      "  [-1.         -1.         -1.        ]\n",
      "  ...\n",
      "  [-0.96862745 -0.96862745 -0.96862745]\n",
      "  [-0.96078432 -0.96078432 -0.96078432]\n",
      "  [-0.95294118 -0.95294118 -0.95294118]]\n",
      "\n",
      " [[-1.         -1.         -1.        ]\n",
      "  [-1.         -1.         -1.        ]\n",
      "  [-1.         -1.         -1.        ]\n",
      "  ...\n",
      "  [-0.97647059 -0.97647059 -0.97647059]\n",
      "  [-0.96862745 -0.96862745 -0.96862745]\n",
      "  [-0.96078432 -0.96078432 -0.96078432]]]\n"
     ]
    },
    {
     "data": {
      "text/plain": [
       "<matplotlib.image.AxesImage at 0x7f292acf6e80>"
      ]
     },
     "execution_count": 11,
     "metadata": {
      "tags": []
     },
     "output_type": "execute_result"
    },
    {
     "data": {
      "image/png": "[encoded data removed]",
      "text/plain": [
       "<Figure size 432x288 with 1 Axes>"
      ]
     },
     "metadata": {
      "tags": []
     },
     "output_type": "display_data"
    }
   ],
   "source": [
    "from matplotlib import pyplot\n",
    "n = 10\n",
    "print(X_train[n])\n",
    "pyplot.imshow(X_train[n])"
   ]
  },
  {
   "cell_type": "code",
   "execution_count": 12,
   "metadata": {
    "colab": {
     "base_uri": "https://localhost:8080/",
     "height": 286
    },
    "colab_type": "code",
    "executionInfo": {
     "elapsed": 1351,
     "status": "ok",
     "timestamp": 1579681134100,
     "user": {
      "displayName": "Arun Kumar U",
      "photoUrl": "",
      "userId": "10330899814833553003"
     },
     "user_tz": -240
    },
    "id": "983gGKcwlSe8",
    "outputId": "cbf392d3-355d-4a2f-dedf-e072790baf31"
   },
   "outputs": [
    {
     "data": {
      "text/plain": [
       "<matplotlib.image.AxesImage at 0x7f292a842fd0>"
      ]
     },
     "execution_count": 12,
     "metadata": {
      "tags": []
     },
     "output_type": "execute_result"
    },
    {
     "data": {
      "image/png": "[encoded data removed]",
      "text/plain": [
       "<Figure size 432x288 with 1 Axes>"
      ]
     },
     "metadata": {
      "tags": []
     },
     "output_type": "display_data"
    }
   ],
   "source": [
    "pyplot.imshow(masks[n])"
   ]
  },
  {
   "cell_type": "markdown",
   "metadata": {
    "colab_type": "text",
    "id": "Z0Qa1UOue9TE"
   },
   "source": [
    "## Create the model (10 marks)\n",
    "- Add MobileNet as model with below parameter values\n",
    "  - input_shape: IMAGE_HEIGHT, IMAGE_WIDTH, 3\n",
    "  - include_top: False\n",
    "  - alpha: 1.0\n",
    "  - weights: \"imagenet\"\n",
    "- Add UNET architecture layers\n",
    "  - This is the trickiest part of the project, you need to research and implement it correctly"
   ]
  },
  {
   "cell_type": "code",
   "execution_count": 0,
   "metadata": {
    "colab": {},
    "colab_type": "code",
    "id": "BTVYOvANrUVx"
   },
   "outputs": [],
   "source": [
    "from tensorflow.keras.applications.mobilenet import MobileNet\n",
    "from tensorflow.keras.layers import Concatenate, UpSampling2D, Conv2D, Reshape\n",
    "from tensorflow.keras.models import Model\n",
    "\n",
    "\n",
    "def create_model(trainable=True):\n",
    "     #### code added below ####\n",
    "    model = MobileNet(input_shape=(IMAGE_HEIGHT, IMAGE_WIDTH, 3), include_top=False, alpha=1.0, weights=\"imagenet\")\n",
    "    \n",
    "    for layer in model.layers:\n",
    "        layer.trainable = trainable\n",
    "\n",
    "    # Add all the UNET layers here\n",
    "    #### code added below ####\n",
    "\n",
    "    # Since mask size is 224 (same as input), we need to concatenate it back all 6 layers, i.e layers of sizes 7,14,28,56,112 & 224, bottom onwards\n",
    "    block1 = model.get_layer(\"input_1\").output         #224\n",
    "    block2 = model.get_layer(\"conv_pw_1_relu\").output  #112\n",
    "    block3 = model.get_layer(\"conv_pw_3_relu\").output  #56\n",
    "    block4 = model.get_layer(\"conv_pw_5_relu\").output  #28\n",
    "    block5 = model.get_layer(\"conv_pw_11_relu\").output #14\n",
    "    block6 = model.get_layer(\"conv_pw_13_relu\").output #7\n",
    "\n",
    "    x = Concatenate()([UpSampling2D()(block6), block5])\n",
    "    x = Concatenate()([UpSampling2D()(x), block4])\n",
    "    x = Concatenate()([UpSampling2D()(x), block3])\n",
    "    x = Concatenate()([UpSampling2D()(x), block2])\n",
    "    x = Concatenate()([UpSampling2D()(x), block1])\n",
    " \n",
    "    # Add new top layer which is an sigmoid activation layer that gives 1 or 0 depending on inside/outside the face\n",
    "    x = Conv2D(1, kernel_size=1, activation=\"sigmoid\")(x)\n",
    "    x = Reshape((IMAGE_HEIGHT, IMAGE_WIDTH))(x)\n",
    " \n",
    "    return Model(inputs=model.input, outputs=x)\n",
    "\n",
    "   "
   ]
  },
  {
   "cell_type": "markdown",
   "metadata": {
    "colab_type": "text",
    "id": "_snZ9o0ZBAiv"
   },
   "source": [
    "### Call the create_model function"
   ]
  },
  {
   "cell_type": "code",
   "execution_count": 14,
   "metadata": {
    "colab": {
     "base_uri": "https://localhost:8080/",
     "height": 1000
    },
    "colab_type": "code",
    "executionInfo": {
     "elapsed": 15111,
     "status": "ok",
     "timestamp": 1579681159745,
     "user": {
      "displayName": "Arun Kumar U",
      "photoUrl": "",
      "userId": "10330899814833553003"
     },
     "user_tz": -240
    },
    "id": "9TfSSP51uPoO",
    "outputId": "52d5dd39-87de-42f2-a65e-cf3ae97b2add"
   },
   "outputs": [
    {
     "name": "stdout",
     "output_type": "stream",
     "text": [
      "WARNING:tensorflow:From /usr/local/lib/python3.6/dist-packages/tensorflow_core/python/ops/resource_variable_ops.py:1630: calling BaseResourceVariable.__init__ (from tensorflow.python.ops.resource_variable_ops) with constraint is deprecated and will be removed in a future version.\n",
      "Instructions for updating:\n",
      "If using Keras pass *_constraint arguments to layers.\n",
      "Downloading data from https://github.com/fchollet/deep-learning-models/releases/download/v0.6/mobilenet_1_0_224_tf_no_top.h5\n",
      "17227776/17225924 [==============================] - 2s 0us/step\n",
      "Model: \"model\"\n",
      "__________________________________________________________________________________________________\n",
      "Layer (type)                    Output Shape         Param #     Connected to                     \n",
      "==================================================================================================\n",
      "input_1 (InputLayer)            [(None, 224, 224, 3) 0                                            \n",
      "__________________________________________________________________________________________________\n",
      "conv1_pad (ZeroPadding2D)       (None, 225, 225, 3)  0           input_1[0][0]                    \n",
      "__________________________________________________________________________________________________\n",
      "conv1 (Conv2D)                  (None, 112, 112, 32) 864         conv1_pad[0][0]                  \n",
      "__________________________________________________________________________________________________\n",
      "conv1_bn (BatchNormalization)   (None, 112, 112, 32) 128         conv1[0][0]                      \n",
      "__________________________________________________________________________________________________\n",
      "conv1_relu (ReLU)               (None, 112, 112, 32) 0           conv1_bn[0][0]                   \n",
      "__________________________________________________________________________________________________\n",
      "conv_dw_1 (DepthwiseConv2D)     (None, 112, 112, 32) 288         conv1_relu[0][0]                 \n",
      "__________________________________________________________________________________________________\n",
      "conv_dw_1_bn (BatchNormalizatio (None, 112, 112, 32) 128         conv_dw_1[0][0]                  \n",
      "__________________________________________________________________________________________________\n",
      "conv_dw_1_relu (ReLU)           (None, 112, 112, 32) 0           conv_dw_1_bn[0][0]               \n",
      "__________________________________________________________________________________________________\n",
      "conv_pw_1 (Conv2D)              (None, 112, 112, 64) 2048        conv_dw_1_relu[0][0]             \n",
      "__________________________________________________________________________________________________\n",
      "conv_pw_1_bn (BatchNormalizatio (None, 112, 112, 64) 256         conv_pw_1[0][0]                  \n",
      "__________________________________________________________________________________________________\n",
      "conv_pw_1_relu (ReLU)           (None, 112, 112, 64) 0           conv_pw_1_bn[0][0]               \n",
      "__________________________________________________________________________________________________\n",
      "conv_pad_2 (ZeroPadding2D)      (None, 113, 113, 64) 0           conv_pw_1_relu[0][0]             \n",
      "__________________________________________________________________________________________________\n",
      "conv_dw_2 (DepthwiseConv2D)     (None, 56, 56, 64)   576         conv_pad_2[0][0]                 \n",
      "__________________________________________________________________________________________________\n",
      "conv_dw_2_bn (BatchNormalizatio (None, 56, 56, 64)   256         conv_dw_2[0][0]                  \n",
      "__________________________________________________________________________________________________\n",
      "conv_dw_2_relu (ReLU)           (None, 56, 56, 64)   0           conv_dw_2_bn[0][0]               \n",
      "__________________________________________________________________________________________________\n",
      "conv_pw_2 (Conv2D)              (None, 56, 56, 128)  8192        conv_dw_2_relu[0][0]             \n",
      "__________________________________________________________________________________________________\n",
      "conv_pw_2_bn (BatchNormalizatio (None, 56, 56, 128)  512         conv_pw_2[0][0]                  \n",
      "__________________________________________________________________________________________________\n",
      "conv_pw_2_relu (ReLU)           (None, 56, 56, 128)  0           conv_pw_2_bn[0][0]               \n",
      "__________________________________________________________________________________________________\n",
      "conv_dw_3 (DepthwiseConv2D)     (None, 56, 56, 128)  1152        conv_pw_2_relu[0][0]             \n",
      "__________________________________________________________________________________________________\n",
      "conv_dw_3_bn (BatchNormalizatio (None, 56, 56, 128)  512         conv_dw_3[0][0]                  \n",
      "__________________________________________________________________________________________________\n",
      "conv_dw_3_relu (ReLU)           (None, 56, 56, 128)  0           conv_dw_3_bn[0][0]               \n",
      "__________________________________________________________________________________________________\n",
      "conv_pw_3 (Conv2D)              (None, 56, 56, 128)  16384       conv_dw_3_relu[0][0]             \n",
      "__________________________________________________________________________________________________\n",
      "conv_pw_3_bn (BatchNormalizatio (None, 56, 56, 128)  512         conv_pw_3[0][0]                  \n",
      "__________________________________________________________________________________________________\n",
      "conv_pw_3_relu (ReLU)           (None, 56, 56, 128)  0           conv_pw_3_bn[0][0]               \n",
      "__________________________________________________________________________________________________\n",
      "conv_pad_4 (ZeroPadding2D)      (None, 57, 57, 128)  0           conv_pw_3_relu[0][0]             \n",
      "__________________________________________________________________________________________________\n",
      "conv_dw_4 (DepthwiseConv2D)     (None, 28, 28, 128)  1152        conv_pad_4[0][0]                 \n",
      "__________________________________________________________________________________________________\n",
      "conv_dw_4_bn (BatchNormalizatio (None, 28, 28, 128)  512         conv_dw_4[0][0]                  \n",
      "__________________________________________________________________________________________________\n",
      "conv_dw_4_relu (ReLU)           (None, 28, 28, 128)  0           conv_dw_4_bn[0][0]               \n",
      "__________________________________________________________________________________________________\n",
      "conv_pw_4 (Conv2D)              (None, 28, 28, 256)  32768       conv_dw_4_relu[0][0]             \n",
      "__________________________________________________________________________________________________\n",
      "conv_pw_4_bn (BatchNormalizatio (None, 28, 28, 256)  1024        conv_pw_4[0][0]                  \n",
      "__________________________________________________________________________________________________\n",
      "conv_pw_4_relu (ReLU)           (None, 28, 28, 256)  0           conv_pw_4_bn[0][0]               \n",
      "__________________________________________________________________________________________________\n",
      "conv_dw_5 (DepthwiseConv2D)     (None, 28, 28, 256)  2304        conv_pw_4_relu[0][0]             \n",
      "__________________________________________________________________________________________________\n",
      "conv_dw_5_bn (BatchNormalizatio (None, 28, 28, 256)  1024        conv_dw_5[0][0]                  \n",
      "__________________________________________________________________________________________________\n",
      "conv_dw_5_relu (ReLU)           (None, 28, 28, 256)  0           conv_dw_5_bn[0][0]               \n",
      "__________________________________________________________________________________________________\n",
      "conv_pw_5 (Conv2D)              (None, 28, 28, 256)  65536       conv_dw_5_relu[0][0]             \n",
      "__________________________________________________________________________________________________\n",
      "conv_pw_5_bn (BatchNormalizatio (None, 28, 28, 256)  1024        conv_pw_5[0][0]                  \n",
      "__________________________________________________________________________________________________\n",
      "conv_pw_5_relu (ReLU)           (None, 28, 28, 256)  0           conv_pw_5_bn[0][0]               \n",
      "__________________________________________________________________________________________________\n",
      "conv_pad_6 (ZeroPadding2D)      (None, 29, 29, 256)  0           conv_pw_5_relu[0][0]             \n",
      "__________________________________________________________________________________________________\n",
      "conv_dw_6 (DepthwiseConv2D)     (None, 14, 14, 256)  2304        conv_pad_6[0][0]                 \n",
      "__________________________________________________________________________________________________\n",
      "conv_dw_6_bn (BatchNormalizatio (None, 14, 14, 256)  1024        conv_dw_6[0][0]                  \n",
      "__________________________________________________________________________________________________\n",
      "conv_dw_6_relu (ReLU)           (None, 14, 14, 256)  0           conv_dw_6_bn[0][0]               \n",
      "__________________________________________________________________________________________________\n",
      "conv_pw_6 (Conv2D)              (None, 14, 14, 512)  131072      conv_dw_6_relu[0][0]             \n",
      "__________________________________________________________________________________________________\n",
      "conv_pw_6_bn (BatchNormalizatio (None, 14, 14, 512)  2048        conv_pw_6[0][0]                  \n",
      "__________________________________________________________________________________________________\n",
      "conv_pw_6_relu (ReLU)           (None, 14, 14, 512)  0           conv_pw_6_bn[0][0]               \n",
      "__________________________________________________________________________________________________\n",
      "conv_dw_7 (DepthwiseConv2D)     (None, 14, 14, 512)  4608        conv_pw_6_relu[0][0]             \n",
      "__________________________________________________________________________________________________\n",
      "conv_dw_7_bn (BatchNormalizatio (None, 14, 14, 512)  2048        conv_dw_7[0][0]                  \n",
      "__________________________________________________________________________________________________\n",
      "conv_dw_7_relu (ReLU)           (None, 14, 14, 512)  0           conv_dw_7_bn[0][0]               \n",
      "__________________________________________________________________________________________________\n",
      "conv_pw_7 (Conv2D)              (None, 14, 14, 512)  262144      conv_dw_7_relu[0][0]             \n",
      "__________________________________________________________________________________________________\n",
      "conv_pw_7_bn (BatchNormalizatio (None, 14, 14, 512)  2048        conv_pw_7[0][0]                  \n",
      "__________________________________________________________________________________________________\n",
      "conv_pw_7_relu (ReLU)           (None, 14, 14, 512)  0           conv_pw_7_bn[0][0]               \n",
      "__________________________________________________________________________________________________\n",
      "conv_dw_8 (DepthwiseConv2D)     (None, 14, 14, 512)  4608        conv_pw_7_relu[0][0]             \n",
      "__________________________________________________________________________________________________\n",
      "conv_dw_8_bn (BatchNormalizatio (None, 14, 14, 512)  2048        conv_dw_8[0][0]                  \n",
      "__________________________________________________________________________________________________\n",
      "conv_dw_8_relu (ReLU)           (None, 14, 14, 512)  0           conv_dw_8_bn[0][0]               \n",
      "__________________________________________________________________________________________________\n",
      "conv_pw_8 (Conv2D)              (None, 14, 14, 512)  262144      conv_dw_8_relu[0][0]             \n",
      "__________________________________________________________________________________________________\n",
      "conv_pw_8_bn (BatchNormalizatio (None, 14, 14, 512)  2048        conv_pw_8[0][0]                  \n",
      "__________________________________________________________________________________________________\n",
      "conv_pw_8_relu (ReLU)           (None, 14, 14, 512)  0           conv_pw_8_bn[0][0]               \n",
      "__________________________________________________________________________________________________\n",
      "conv_dw_9 (DepthwiseConv2D)     (None, 14, 14, 512)  4608        conv_pw_8_relu[0][0]             \n",
      "__________________________________________________________________________________________________\n",
      "conv_dw_9_bn (BatchNormalizatio (None, 14, 14, 512)  2048        conv_dw_9[0][0]                  \n",
      "__________________________________________________________________________________________________\n",
      "conv_dw_9_relu (ReLU)           (None, 14, 14, 512)  0           conv_dw_9_bn[0][0]               \n",
      "__________________________________________________________________________________________________\n",
      "conv_pw_9 (Conv2D)              (None, 14, 14, 512)  262144      conv_dw_9_relu[0][0]             \n",
      "__________________________________________________________________________________________________\n",
      "conv_pw_9_bn (BatchNormalizatio (None, 14, 14, 512)  2048        conv_pw_9[0][0]                  \n",
      "__________________________________________________________________________________________________\n",
      "conv_pw_9_relu (ReLU)           (None, 14, 14, 512)  0           conv_pw_9_bn[0][0]               \n",
      "__________________________________________________________________________________________________\n",
      "conv_dw_10 (DepthwiseConv2D)    (None, 14, 14, 512)  4608        conv_pw_9_relu[0][0]             \n",
      "__________________________________________________________________________________________________\n",
      "conv_dw_10_bn (BatchNormalizati (None, 14, 14, 512)  2048        conv_dw_10[0][0]                 \n",
      "__________________________________________________________________________________________________\n",
      "conv_dw_10_relu (ReLU)          (None, 14, 14, 512)  0           conv_dw_10_bn[0][0]              \n",
      "__________________________________________________________________________________________________\n",
      "conv_pw_10 (Conv2D)             (None, 14, 14, 512)  262144      conv_dw_10_relu[0][0]            \n",
      "__________________________________________________________________________________________________\n",
      "conv_pw_10_bn (BatchNormalizati (None, 14, 14, 512)  2048        conv_pw_10[0][0]                 \n",
      "__________________________________________________________________________________________________\n",
      "conv_pw_10_relu (ReLU)          (None, 14, 14, 512)  0           conv_pw_10_bn[0][0]              \n",
      "__________________________________________________________________________________________________\n",
      "conv_dw_11 (DepthwiseConv2D)    (None, 14, 14, 512)  4608        conv_pw_10_relu[0][0]            \n",
      "__________________________________________________________________________________________________\n",
      "conv_dw_11_bn (BatchNormalizati (None, 14, 14, 512)  2048        conv_dw_11[0][0]                 \n",
      "__________________________________________________________________________________________________\n",
      "conv_dw_11_relu (ReLU)          (None, 14, 14, 512)  0           conv_dw_11_bn[0][0]              \n",
      "__________________________________________________________________________________________________\n",
      "conv_pw_11 (Conv2D)             (None, 14, 14, 512)  262144      conv_dw_11_relu[0][0]            \n",
      "__________________________________________________________________________________________________\n",
      "conv_pw_11_bn (BatchNormalizati (None, 14, 14, 512)  2048        conv_pw_11[0][0]                 \n",
      "__________________________________________________________________________________________________\n",
      "conv_pw_11_relu (ReLU)          (None, 14, 14, 512)  0           conv_pw_11_bn[0][0]              \n",
      "__________________________________________________________________________________________________\n",
      "conv_pad_12 (ZeroPadding2D)     (None, 15, 15, 512)  0           conv_pw_11_relu[0][0]            \n",
      "__________________________________________________________________________________________________\n",
      "conv_dw_12 (DepthwiseConv2D)    (None, 7, 7, 512)    4608        conv_pad_12[0][0]                \n",
      "__________________________________________________________________________________________________\n",
      "conv_dw_12_bn (BatchNormalizati (None, 7, 7, 512)    2048        conv_dw_12[0][0]                 \n",
      "__________________________________________________________________________________________________\n",
      "conv_dw_12_relu (ReLU)          (None, 7, 7, 512)    0           conv_dw_12_bn[0][0]              \n",
      "__________________________________________________________________________________________________\n",
      "conv_pw_12 (Conv2D)             (None, 7, 7, 1024)   524288      conv_dw_12_relu[0][0]            \n",
      "__________________________________________________________________________________________________\n",
      "conv_pw_12_bn (BatchNormalizati (None, 7, 7, 1024)   4096        conv_pw_12[0][0]                 \n",
      "__________________________________________________________________________________________________\n",
      "conv_pw_12_relu (ReLU)          (None, 7, 7, 1024)   0           conv_pw_12_bn[0][0]              \n",
      "__________________________________________________________________________________________________\n",
      "conv_dw_13 (DepthwiseConv2D)    (None, 7, 7, 1024)   9216        conv_pw_12_relu[0][0]            \n",
      "__________________________________________________________________________________________________\n",
      "conv_dw_13_bn (BatchNormalizati (None, 7, 7, 1024)   4096        conv_dw_13[0][0]                 \n",
      "__________________________________________________________________________________________________\n",
      "conv_dw_13_relu (ReLU)          (None, 7, 7, 1024)   0           conv_dw_13_bn[0][0]              \n",
      "__________________________________________________________________________________________________\n",
      "conv_pw_13 (Conv2D)             (None, 7, 7, 1024)   1048576     conv_dw_13_relu[0][0]            \n",
      "__________________________________________________________________________________________________\n",
      "conv_pw_13_bn (BatchNormalizati (None, 7, 7, 1024)   4096        conv_pw_13[0][0]                 \n",
      "__________________________________________________________________________________________________\n",
      "conv_pw_13_relu (ReLU)          (None, 7, 7, 1024)   0           conv_pw_13_bn[0][0]              \n",
      "__________________________________________________________________________________________________\n",
      "up_sampling2d (UpSampling2D)    (None, 14, 14, 1024) 0           conv_pw_13_relu[0][0]            \n",
      "__________________________________________________________________________________________________\n",
      "concatenate (Concatenate)       (None, 14, 14, 1536) 0           up_sampling2d[0][0]              \n",
      "                                                                 conv_pw_11_relu[0][0]            \n",
      "__________________________________________________________________________________________________\n",
      "up_sampling2d_1 (UpSampling2D)  (None, 28, 28, 1536) 0           concatenate[0][0]                \n",
      "__________________________________________________________________________________________________\n",
      "concatenate_1 (Concatenate)     (None, 28, 28, 1792) 0           up_sampling2d_1[0][0]            \n",
      "                                                                 conv_pw_5_relu[0][0]             \n",
      "__________________________________________________________________________________________________\n",
      "up_sampling2d_2 (UpSampling2D)  (None, 56, 56, 1792) 0           concatenate_1[0][0]              \n",
      "__________________________________________________________________________________________________\n",
      "concatenate_2 (Concatenate)     (None, 56, 56, 1920) 0           up_sampling2d_2[0][0]            \n",
      "                                                                 conv_pw_3_relu[0][0]             \n",
      "__________________________________________________________________________________________________\n",
      "up_sampling2d_3 (UpSampling2D)  (None, 112, 112, 192 0           concatenate_2[0][0]              \n",
      "__________________________________________________________________________________________________\n",
      "concatenate_3 (Concatenate)     (None, 112, 112, 198 0           up_sampling2d_3[0][0]            \n",
      "                                                                 conv_pw_1_relu[0][0]             \n",
      "__________________________________________________________________________________________________\n",
      "up_sampling2d_4 (UpSampling2D)  (None, 224, 224, 198 0           concatenate_3[0][0]              \n",
      "__________________________________________________________________________________________________\n",
      "concatenate_4 (Concatenate)     (None, 224, 224, 198 0           up_sampling2d_4[0][0]            \n",
      "                                                                 input_1[0][0]                    \n",
      "__________________________________________________________________________________________________\n",
      "conv2d (Conv2D)                 (None, 224, 224, 1)  1988        concatenate_4[0][0]              \n",
      "__________________________________________________________________________________________________\n",
      "reshape (Reshape)               (None, 224, 224)     0           conv2d[0][0]                     \n",
      "==================================================================================================\n",
      "Total params: 3,230,852\n",
      "Trainable params: 3,208,964\n",
      "Non-trainable params: 21,888\n",
      "__________________________________________________________________________________________________\n"
     ]
    }
   ],
   "source": [
    "# Give trainable=False as argument, if you want to freeze lower layers for fast training (but low accuracy)\n",
    "model = create_model(trainable=True)\n",
    "\n",
    "# Print summary\n",
    "model.summary()"
   ]
  },
  {
   "cell_type": "markdown",
   "metadata": {
    "colab_type": "text",
    "id": "2spcE4TvfEZw"
   },
   "source": [
    "### Define dice coefficient function (5 marks)\n",
    "- Create a function to calculate dice coefficient\n"
   ]
  },
  {
   "cell_type": "code",
   "execution_count": 0,
   "metadata": {
    "colab": {},
    "colab_type": "code",
    "id": "8H8aViXZuWz1"
   },
   "outputs": [],
   "source": [
    "def dice_coefficient(y_true, y_pred):\n",
    "    #### code added below ####\n",
    "    import tensorflow\n",
    "    numerator = 2 * tensorflow.reduce_sum(y_true * y_pred)\n",
    "    denominator = tensorflow.reduce_sum(y_true + y_pred)\n",
    "\n",
    "    return numerator / (denominator + tensorflow.keras.backend.epsilon())\n",
    "    "
   ]
  },
  {
   "cell_type": "markdown",
   "metadata": {
    "colab_type": "text",
    "id": "Nkp5SDM1fIu2"
   },
   "source": [
    "### Define loss"
   ]
  },
  {
   "cell_type": "code",
   "execution_count": 0,
   "metadata": {
    "colab": {},
    "colab_type": "code",
    "id": "FEOVfs19KVLv"
   },
   "outputs": [],
   "source": [
    "from tensorflow.keras.losses import binary_crossentropy\n",
    "from tensorflow.keras.backend import log, epsilon\n",
    "def loss(y_true, y_pred):\n",
    "    return binary_crossentropy(y_true, y_pred) - log(dice_coefficient(y_true, y_pred) + epsilon())"
   ]
  },
  {
   "cell_type": "markdown",
   "metadata": {
    "colab_type": "text",
    "id": "Thltv_akfOMS"
   },
   "source": [
    "### Compile the model (2 marks)\n",
    "- Complie the model using below parameters\n",
    "  - loss: use the loss function defined above\n",
    "  - optimizers: use Adam optimizer\n",
    "  - metrics: use dice_coefficient function defined above"
   ]
  },
  {
   "cell_type": "code",
   "execution_count": 0,
   "metadata": {
    "colab": {},
    "colab_type": "code",
    "id": "atPb8xm2qkK5"
   },
   "outputs": [],
   "source": [
    "#### Add your code here ####\n",
    "from tensorflow.python.keras.optimizers import adam\n",
    "\n",
    "optimizer = adam(lr=1e-4, beta_1=0.9, beta_2=0.999, epsilon=None, decay=0.0, amsgrad=False)\n",
    "model.compile(loss=loss, optimizer=optimizer, metrics=[dice_coefficient])\n"
   ]
  },
  {
   "cell_type": "markdown",
   "metadata": {
    "colab_type": "text",
    "id": "VTumZyg0fuVy"
   },
   "source": [
    "### Define checkpoint and earlystopping"
   ]
  },
  {
   "cell_type": "code",
   "execution_count": 18,
   "metadata": {
    "colab": {
     "base_uri": "https://localhost:8080/",
     "height": 34
    },
    "colab_type": "code",
    "executionInfo": {
     "elapsed": 1568,
     "status": "ok",
     "timestamp": 1579681174227,
     "user": {
      "displayName": "Arun Kumar U",
      "photoUrl": "",
      "userId": "10330899814833553003"
     },
     "user_tz": -240
    },
    "id": "QNlQHt8DMy7h",
    "outputId": "f4cf0da9-93c5-40d9-d45f-cad8154c362c"
   },
   "outputs": [
    {
     "name": "stdout",
     "output_type": "stream",
     "text": [
      "WARNING:tensorflow:`period` argument is deprecated. Please use `save_freq` to specify the frequency in number of samples seen.\n"
     ]
    }
   ],
   "source": [
    "from tensorflow.keras.callbacks import ModelCheckpoint, EarlyStopping, ReduceLROnPlateau\n",
    "\n",
    "checkpoint = ModelCheckpoint(\"model-{loss:.2f}.h5\", monitor=\"loss\", verbose=1, save_best_only=True,\n",
    "                             save_weights_only=True, mode=\"min\", period=1)\n",
    "stop = EarlyStopping(monitor=\"loss\", patience=5, mode=\"min\")\n",
    "reduce_lr = ReduceLROnPlateau(monitor=\"loss\", factor=0.2, patience=5, min_lr=1e-6, verbose=1, mode=\"min\")"
   ]
  },
  {
   "cell_type": "markdown",
   "metadata": {
    "colab_type": "text",
    "id": "LxxbwvXEf07e"
   },
   "source": [
    "### Fit the model (2 marks)\n",
    "- Fit the model using below parameters\n",
    "  - epochs: you can decide\n",
    "  - batch_size: 1\n",
    "  - callbacks: checkpoint, reduce_lr, stop"
   ]
  },
  {
   "cell_type": "code",
   "execution_count": 30,
   "metadata": {
    "colab": {
     "base_uri": "https://localhost:8080/",
     "height": 1000
    },
    "colab_type": "code",
    "executionInfo": {
     "elapsed": 404432,
     "status": "ok",
     "timestamp": 1579682927727,
     "user": {
      "displayName": "Arun Kumar U",
      "photoUrl": "",
      "userId": "10330899814833553003"
     },
     "user_tz": -240
    },
    "id": "guFfKsEmq58j",
    "outputId": "d3f4141a-e26e-4c5b-9743-cdd084cae733"
   },
   "outputs": [
    {
     "name": "stdout",
     "output_type": "stream",
     "text": [
      "Train on 409 samples\n",
      "Epoch 1/20\n",
      "407/409 [============================>.] - ETA: 0s - loss: 0.8508 - dice_coefficient: 0.5913\n",
      "Epoch 00001: loss improved from inf to 0.85277, saving model to model-0.85.h5\n",
      "409/409 [==============================] - 29s 72ms/sample - loss: 0.8528 - dice_coefficient: 0.5906\n",
      "Epoch 2/20\n",
      "408/409 [============================>.] - ETA: 0s - loss: 0.6386 - dice_coefficient: 0.6689\n",
      "Epoch 00002: loss improved from 0.85277 to 0.63776, saving model to model-0.64.h5\n",
      "409/409 [==============================] - 19s 47ms/sample - loss: 0.6378 - dice_coefficient: 0.6692\n",
      "Epoch 3/20\n",
      "408/409 [============================>.] - ETA: 0s - loss: 0.5798 - dice_coefficient: 0.6937\n",
      "Epoch 00003: loss improved from 0.63776 to 0.57954, saving model to model-0.58.h5\n",
      "409/409 [==============================] - 19s 47ms/sample - loss: 0.5795 - dice_coefficient: 0.6938\n",
      "Epoch 4/20\n",
      "407/409 [============================>.] - ETA: 0s - loss: 0.5250 - dice_coefficient: 0.7176\n",
      "Epoch 00004: loss improved from 0.57954 to 0.52448, saving model to model-0.52.h5\n",
      "409/409 [==============================] - 20s 50ms/sample - loss: 0.5245 - dice_coefficient: 0.7176\n",
      "Epoch 5/20\n",
      "407/409 [============================>.] - ETA: 0s - loss: 0.4965 - dice_coefficient: 0.7313\n",
      "Epoch 00005: loss improved from 0.52448 to 0.49575, saving model to model-0.50.h5\n",
      "409/409 [==============================] - 20s 50ms/sample - loss: 0.4958 - dice_coefficient: 0.7315\n",
      "Epoch 6/20\n",
      "408/409 [============================>.] - ETA: 0s - loss: 0.4673 - dice_coefficient: 0.7440\n",
      "Epoch 00006: loss improved from 0.49575 to 0.46948, saving model to model-0.47.h5\n",
      "409/409 [==============================] - 19s 47ms/sample - loss: 0.4695 - dice_coefficient: 0.7429\n",
      "Epoch 7/20\n",
      "408/409 [============================>.] - ETA: 0s - loss: 0.4562 - dice_coefficient: 0.7509\n",
      "Epoch 00007: loss improved from 0.46948 to 0.45576, saving model to model-0.46.h5\n",
      "409/409 [==============================] - 21s 51ms/sample - loss: 0.4558 - dice_coefficient: 0.7512\n",
      "Epoch 8/20\n",
      "408/409 [============================>.] - ETA: 0s - loss: 0.4419 - dice_coefficient: 0.7577\n",
      "Epoch 00008: loss improved from 0.45576 to 0.44153, saving model to model-0.44.h5\n",
      "409/409 [==============================] - 19s 47ms/sample - loss: 0.4415 - dice_coefficient: 0.7578\n",
      "Epoch 9/20\n",
      "408/409 [============================>.] - ETA: 0s - loss: 0.4306 - dice_coefficient: 0.7642\n",
      "Epoch 00009: loss improved from 0.44153 to 0.43057, saving model to model-0.43.h5\n",
      "409/409 [==============================] - 19s 47ms/sample - loss: 0.4306 - dice_coefficient: 0.7640\n",
      "Epoch 10/20\n",
      "408/409 [============================>.] - ETA: 0s - loss: 0.4218 - dice_coefficient: 0.7684\n",
      "Epoch 00010: loss improved from 0.43057 to 0.42154, saving model to model-0.42.h5\n",
      "409/409 [==============================] - 20s 48ms/sample - loss: 0.4215 - dice_coefficient: 0.7683\n",
      "Epoch 11/20\n",
      "408/409 [============================>.] - ETA: 0s - loss: 0.4151 - dice_coefficient: 0.7718\n",
      "Epoch 00011: loss improved from 0.42154 to 0.41476, saving model to model-0.41.h5\n",
      "409/409 [==============================] - 19s 48ms/sample - loss: 0.4148 - dice_coefficient: 0.7720\n",
      "Epoch 12/20\n",
      "407/409 [============================>.] - ETA: 0s - loss: 0.4039 - dice_coefficient: 0.7784\n",
      "Epoch 00012: loss improved from 0.41476 to 0.40389, saving model to model-0.40.h5\n",
      "409/409 [==============================] - 20s 48ms/sample - loss: 0.4039 - dice_coefficient: 0.7781\n",
      "Epoch 13/20\n",
      "408/409 [============================>.] - ETA: 0s - loss: 0.4078 - dice_coefficient: 0.7772\n",
      "Epoch 00013: loss did not improve from 0.40389\n",
      "409/409 [==============================] - 19s 47ms/sample - loss: 0.4076 - dice_coefficient: 0.7774\n",
      "Epoch 14/20\n",
      "408/409 [============================>.] - ETA: 0s - loss: 0.3918 - dice_coefficient: 0.7844\n",
      "Epoch 00014: loss improved from 0.40389 to 0.39199, saving model to model-0.39.h5\n",
      "409/409 [==============================] - 20s 48ms/sample - loss: 0.3920 - dice_coefficient: 0.7843\n",
      "Epoch 15/20\n",
      "408/409 [============================>.] - ETA: 0s - loss: 0.3768 - dice_coefficient: 0.7931\n",
      "Epoch 00015: loss improved from 0.39199 to 0.37780, saving model to model-0.38.h5\n",
      "409/409 [==============================] - 20s 48ms/sample - loss: 0.3778 - dice_coefficient: 0.7925\n",
      "Epoch 16/20\n",
      "407/409 [============================>.] - ETA: 0s - loss: 0.3639 - dice_coefficient: 0.7993\n",
      "Epoch 00016: loss improved from 0.37780 to 0.36306, saving model to model-0.36.h5\n",
      "409/409 [==============================] - 20s 48ms/sample - loss: 0.3631 - dice_coefficient: 0.7998\n",
      "Epoch 17/20\n",
      "408/409 [============================>.] - ETA: 0s - loss: 0.3528 - dice_coefficient: 0.8043\n",
      "Epoch 00017: loss improved from 0.36306 to 0.35264, saving model to model-0.35.h5\n",
      "409/409 [==============================] - 20s 48ms/sample - loss: 0.3526 - dice_coefficient: 0.8045\n",
      "Epoch 18/20\n",
      "408/409 [============================>.] - ETA: 0s - loss: 0.3441 - dice_coefficient: 0.8096\n",
      "Epoch 00018: loss improved from 0.35264 to 0.34391, saving model to model-0.34.h5\n",
      "409/409 [==============================] - 20s 48ms/sample - loss: 0.3439 - dice_coefficient: 0.8095\n",
      "Epoch 19/20\n",
      "408/409 [============================>.] - ETA: 0s - loss: 0.3374 - dice_coefficient: 0.8129\n",
      "Epoch 00019: loss improved from 0.34391 to 0.33715, saving model to model-0.34.h5\n",
      "409/409 [==============================] - 20s 49ms/sample - loss: 0.3372 - dice_coefficient: 0.8131\n",
      "Epoch 20/20\n",
      "407/409 [============================>.] - ETA: 0s - loss: 0.3274 - dice_coefficient: 0.8183\n",
      "Epoch 00020: loss improved from 0.33715 to 0.32818, saving model to model-0.33.h5\n",
      "409/409 [==============================] - 20s 48ms/sample - loss: 0.3282 - dice_coefficient: 0.8179\n"
     ]
    },
    {
     "data": {
      "text/plain": [
       "<tensorflow.python.keras.callbacks.History at 0x7f28a25fb7f0>"
      ]
     },
     "execution_count": 30,
     "metadata": {
      "tags": []
     },
     "output_type": "execute_result"
    }
   ],
   "source": [
    "#### code adde below ####\n",
    "\n",
    "model.fit(x=X_train,y=masks,\n",
    "          epochs=20, batch_size=1,\n",
    "          callbacks=[checkpoint, reduce_lr, stop],\n",
    "           use_multiprocessing=True, verbose=1)\n"
   ]
  },
  {
   "cell_type": "code",
   "execution_count": 0,
   "metadata": {
    "colab": {},
    "colab_type": "code",
    "id": "Vg_9AhTf6mn2"
   },
   "outputs": [],
   "source": [
    "#Save weights\n",
    "\n",
    "model.save('fd.h5')\n",
    "model.save_weights('fd_weights.h5')"
   ]
  },
  {
   "cell_type": "code",
   "execution_count": 0,
   "metadata": {
    "colab": {},
    "colab_type": "code",
    "id": "jEPSPMBf763s"
   },
   "outputs": [],
   "source": [
    "# After training, loading a model of dice of 0.92\n",
    "WEIGHTS_FILE = \"model-0.95.h5\"\n",
    "THRESHOLD = 0.8\n",
    "EPSILON = 0.02\n",
    "\n",
    "model = create_model()\n",
    "model.load_weights(WEIGHTS_FILE)"
   ]
  },
  {
   "cell_type": "code",
   "execution_count": 0,
   "metadata": {
    "colab": {},
    "colab_type": "code",
    "id": "1SWpt6TQWYzi"
   },
   "outputs": [],
   "source": [
    "import tensorflow.keras.losses\n",
    "\n",
    "from tensorflow.keras.models import load_model\n",
    "model = load_model('fd.h5',custom_objects={'loss': loss})"
   ]
  },
  {
   "cell_type": "markdown",
   "metadata": {
    "colab_type": "text",
    "id": "5VtnuzlOf4uL"
   },
   "source": [
    "### Get the predicted mask for a sample image   (3 marks)"
   ]
  },
  {
   "cell_type": "code",
   "execution_count": 36,
   "metadata": {
    "colab": {
     "base_uri": "https://localhost:8080/",
     "height": 892
    },
    "colab_type": "code",
    "executionInfo": {
     "elapsed": 1620,
     "status": "ok",
     "timestamp": 1579683206971,
     "user": {
      "displayName": "Arun Kumar U",
      "photoUrl": "",
      "userId": "10330899814833553003"
     },
     "user_tz": -240
    },
    "id": "o-CBCMysrchu",
    "outputId": "f3cf0998-a3a0-4f3b-d8a9-632df896db53"
   },
   "outputs": [
    {
     "name": "stderr",
     "output_type": "stream",
     "text": [
      "Clipping input data to the valid range for imshow with RGB data ([0..1] for floats or [0..255] for integers).\n"
     ]
    },
    {
     "name": "stdout",
     "output_type": "stream",
     "text": [
      "\n",
      " Sample Image: 10\n"
     ]
    },
    {
     "data": {
      "image/png": "[encoded data removed]",
      "text/plain": [
       "<Figure size 432x288 with 1 Axes>"
      ]
     },
     "metadata": {
      "tags": []
     },
     "output_type": "display_data"
    },
    {
     "name": "stdout",
     "output_type": "stream",
     "text": [
      "\n",
      " Given Mask: 10\n"
     ]
    },
    {
     "data": {
      "image/png": "[encoded data removed]",
      "text/plain": [
       "<Figure size 432x288 with 1 Axes>"
      ]
     },
     "metadata": {
      "tags": []
     },
     "output_type": "display_data"
    },
    {
     "name": "stdout",
     "output_type": "stream",
     "text": [
      "\n",
      " Predicted Mask: 10\n"
     ]
    },
    {
     "data": {
      "image/png": "[encoded data removed]",
      "text/plain": [
       "<Figure size 432x288 with 1 Axes>"
      ]
     },
     "metadata": {
      "tags": []
     },
     "output_type": "display_data"
    }
   ],
   "source": [
    "n = 10\n",
    "sample_image = X_train[n]\n",
    "\n",
    "#### Code below ####\n",
    "print(\"\\n Sample Image: \"+ str(n)) # Sample image\n",
    "pyplot.imshow(sample_image) \n",
    "pyplot.show()\n",
    "\n",
    "print(\"\\n Given Mask: \"+ str(n)) # Given Mask\n",
    "pyplot.imshow(masks[n])\n",
    "pyplot.show()\n",
    "\n",
    "print(\"\\n Predicted Mask: \"+ str(n)) # Predicted Mask\n",
    "a=model.predict(sample_image.reshape(1,224,224,3))\n",
    "pyplot.imshow(a.reshape(224,224)) \n",
    "pyplot.show()"
   ]
  },
  {
   "cell_type": "code",
   "execution_count": 37,
   "metadata": {
    "colab": {
     "base_uri": "https://localhost:8080/",
     "height": 875
    },
    "colab_type": "code",
    "executionInfo": {
     "elapsed": 2340,
     "status": "ok",
     "timestamp": 1579683220376,
     "user": {
      "displayName": "Arun Kumar U",
      "photoUrl": "",
      "userId": "10330899814833553003"
     },
     "user_tz": -240
    },
    "id": "69_1jDSjDrAj",
    "outputId": "99cfe31d-30ea-4fd3-b0e6-e9c8f4c2b028"
   },
   "outputs": [
    {
     "name": "stderr",
     "output_type": "stream",
     "text": [
      "Clipping input data to the valid range for imshow with RGB data ([0..1] for floats or [0..255] for integers).\n"
     ]
    },
    {
     "name": "stdout",
     "output_type": "stream",
     "text": [
      "Sample Image: 11\n"
     ]
    },
    {
     "data": {
      "image/png": "[encoded data removed]",
      "text/plain": [
       "<Figure size 432x288 with 1 Axes>"
      ]
     },
     "metadata": {
      "tags": []
     },
     "output_type": "display_data"
    },
    {
     "name": "stdout",
     "output_type": "stream",
     "text": [
      "\n",
      " Given Mask: 11\n"
     ]
    },
    {
     "data": {
      "image/png": "[encoded data removed]",
      "text/plain": [
       "<Figure size 432x288 with 1 Axes>"
      ]
     },
     "metadata": {
      "tags": []
     },
     "output_type": "display_data"
    },
    {
     "name": "stdout",
     "output_type": "stream",
     "text": [
      "\n",
      " Predicted Mask: 11\n"
     ]
    },
    {
     "data": {
      "image/png": "[encoded data removed]",
      "text/plain": [
       "<Figure size 432x288 with 1 Axes>"
      ]
     },
     "metadata": {
      "tags": []
     },
     "output_type": "display_data"
    }
   ],
   "source": [
    "n = 11\n",
    "sample_image = X_train[n]\n",
    "\n",
    "#### Code below ####\n",
    "print(\"Sample Image: \"+ str(n)) # Sample image\n",
    "pyplot.imshow(sample_image) \n",
    "pyplot.show()\n",
    "\n",
    "print(\"\\n Given Mask: \"+ str(n)) # Given Mask\n",
    "pyplot.imshow(masks[n])\n",
    "pyplot.show()\n",
    "\n",
    "print(\"\\n Predicted Mask: \"+ str(n)) # Predicted Mask\n",
    "a=model.predict(sample_image.reshape(1,224,224,3))\n",
    "pyplot.imshow(a.reshape(224,224)) \n",
    "pyplot.show()"
   ]
  },
  {
   "cell_type": "markdown",
   "metadata": {
    "colab_type": "text",
    "id": "fDIetz0HgA4R"
   },
   "source": [
    "### Impose the mask on the image (3 marks)"
   ]
  },
  {
   "cell_type": "code",
   "execution_count": 0,
   "metadata": {
    "colab": {},
    "colab_type": "code",
    "id": "MTAHGkb5xdzu"
   },
   "outputs": [],
   "source": [
    "#### Add your code here ####"
   ]
  }
 ],
 "metadata": {
  "accelerator": "GPU",
  "colab": {
   "collapsed_sections": [],
   "machine_shape": "hm",
   "name": "CV.Project1-Face Detection.ipynb",
   "provenance": [],
   "toc_visible": true
  },
  "kernelspec": {
   "display_name": "Python 3",
   "language": "python",
   "name": "python3"
  },
  "language_info": {
   "codemirror_mode": {
    "name": "ipython",
    "version": 3
   },
   "file_extension": ".py",
   "mimetype": "text/x-python",
   "name": "python",
   "nbconvert_exporter": "python",
   "pygments_lexer": "ipython3",
   "version": "3.7.4"
  }
 },
 "nbformat": 4,
 "nbformat_minor": 1
}
